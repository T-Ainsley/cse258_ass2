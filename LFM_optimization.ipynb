{
 "cells": [
  {
   "cell_type": "code",
   "execution_count": 1,
   "metadata": {},
   "outputs": [],
   "source": [
    "import gzip\n",
    "import json\n",
    "import math\n",
    "import numpy\n",
    "import random\n",
    "import sklearn\n",
    "import string\n",
    "from collections import defaultdict\n",
    "import numpy as np\n",
    "import pandas as pd"
   ]
  },
  {
   "cell_type": "code",
   "execution_count": 2,
   "metadata": {},
   "outputs": [],
   "source": [
    "def readGz(path):\n",
    "    for l in gzip.open(path, 'rt'):\n",
    "        yield eval(l)\n",
    "\n",
    "def readCSV(path):\n",
    "    f = gzip.open(path, 'rt')\n",
    "    f.readline()\n",
    "    for l in f:\n",
    "        yield l.strip().split(',')"
   ]
  },
  {
   "cell_type": "code",
   "execution_count": 3,
   "metadata": {},
   "outputs": [],
   "source": [
    "reviews = []\n",
    "f1 = open(\"D:/FA24/CSE258/ASS2/renttherunway_final_data.json\")\n",
    "for l1 in f1:\n",
    "    try:\n",
    "        d = eval(l1)\n",
    "    except:\n",
    "        l1 = l1.replace('null', \"'None'\")\n",
    "        d = eval(l1)\n",
    "    reviews.append(d)\n",
    "f1.close()"
   ]
  },
  {
   "cell_type": "code",
   "execution_count": 4,
   "metadata": {},
   "outputs": [],
   "source": [
    "runway = pd.DataFrame(reviews)[['fit', 'user_id', 'item_id', 'weight', 'height', 'size']]"
   ]
  },
  {
   "cell_type": "code",
   "execution_count": 5,
   "metadata": {},
   "outputs": [],
   "source": [
    "runway_clean = runway.dropna()\n",
    "X = runway_clean[['weight', 'height']]\n",
    "y = runway_clean['fit']"
   ]
  },
  {
   "cell_type": "code",
   "execution_count": 6,
   "metadata": {},
   "outputs": [],
   "source": [
    "runway['weight'] = runway['weight'].str.replace('lbs','')"
   ]
  },
  {
   "cell_type": "code",
   "execution_count": 7,
   "metadata": {},
   "outputs": [],
   "source": [
    "data1 = runway.replace({'fit': 1, 'small': 0, 'large': 0})\n",
    "data2 = runway.replace({'fit': 0, 'small': 1, 'large': 0})\n",
    "data3 = runway.replace({'fit': 0, 'small': 0, 'large': 1})\n",
    "data1 = data1[['user_id', 'item_id', 'fit']]\n",
    "data2 = data2[['user_id', 'item_id', 'fit']]\n",
    "data3 = data3[['user_id', 'item_id', 'fit']]"
   ]
  },
  {
   "cell_type": "code",
   "execution_count": 8,
   "metadata": {},
   "outputs": [],
   "source": [
    "import random\n",
    "random.seed(1)\n",
    "shuffled_df = data1.sample(frac = 1, random_state=42)\n",
    "\n",
    "train1, validate1 = np.split(shuffled_df,\n",
    "                       [int(.8*len(shuffled_df))])\n",
    "random.seed(1)\n",
    "shuffled_df2 = data2.sample(frac = 1, random_state=42)\n",
    "\n",
    "train2, validate2 = np.split(shuffled_df2,\n",
    "                       [int(.8*len(shuffled_df))])\n",
    "random.seed(1)\n",
    "shuffled_df3 = data3.sample(frac = 1, random_state=42)\n",
    "\n",
    "train3, validate3 = np.split(shuffled_df3,\n",
    "                       [int(.8*len(shuffled_df))])"
   ]
  },
  {
   "cell_type": "code",
   "execution_count": 9,
   "metadata": {},
   "outputs": [],
   "source": [
    "fitTrain = train1[['user_id', 'item_id', 'fit']].to_numpy()\n",
    "fitValid = validate1[['user_id', 'item_id', 'fit']].to_numpy()\n",
    "fitTrain2 = train2[['user_id', 'item_id', 'fit']].to_numpy()\n",
    "fitValid2 = validate2[['user_id', 'item_id', 'fit']].to_numpy()\n",
    "fitTrain3 = train3[['user_id', 'item_id', 'fit']].to_numpy()\n",
    "fitValid3 = validate3[['user_id', 'item_id', 'fit']].to_numpy()"
   ]
  },
  {
   "cell_type": "code",
   "execution_count": 10,
   "metadata": {},
   "outputs": [],
   "source": [
    "temp = train1.set_index('user_id')[['item_id', 'fit']]\n",
    "temp['tup'] = temp.apply(lambda row: (row['item_id'],row['fit']),axis=1)\n",
    "fitPerUser = temp.reset_index().groupby('user_id')['tup'].agg(list).to_dict()\n",
    "\n",
    "temp2 = train1.set_index('item_id')[['user_id', 'fit']]\n",
    "temp2['tup'] = temp2.apply(lambda row: (row['user_id'],row['fit']),axis=1)\n",
    "fitPerItem = temp2.reset_index().groupby('item_id')['tup'].agg(list).to_dict()"
   ]
  },
  {
   "cell_type": "code",
   "execution_count": 11,
   "metadata": {},
   "outputs": [],
   "source": [
    "temp = train2.set_index('user_id')[['item_id', 'fit']]\n",
    "temp['tup'] = temp.apply(lambda row: (row['item_id'],row['fit']),axis=1)\n",
    "fitPerUser2 = temp.reset_index().groupby('user_id')['tup'].agg(list).to_dict()\n",
    "\n",
    "temp2 = train2.set_index('item_id')[['user_id', 'fit']]\n",
    "temp2['tup'] = temp2.apply(lambda row: (row['user_id'],row['fit']),axis=1)\n",
    "fitPerItem2 = temp2.reset_index().groupby('item_id')['tup'].agg(list).to_dict()"
   ]
  },
  {
   "cell_type": "code",
   "execution_count": 12,
   "metadata": {},
   "outputs": [],
   "source": [
    "temp = train3.set_index('user_id')[['item_id', 'fit']]\n",
    "temp['tup'] = temp.apply(lambda row: (row['item_id'],row['fit']),axis=1)\n",
    "fitPerUser3 = temp.reset_index().groupby('user_id')['tup'].agg(list).to_dict()\n",
    "\n",
    "temp2 = train3.set_index('item_id')[['user_id', 'fit']]\n",
    "temp2['tup'] = temp2.apply(lambda row: (row['user_id'],row['fit']),axis=1)\n",
    "fitPerItem3 = temp2.reset_index().groupby('item_id')['tup'].agg(list).to_dict()"
   ]
  },
  {
   "cell_type": "code",
   "execution_count": 13,
   "metadata": {},
   "outputs": [],
   "source": [
    "betaU = {}\n",
    "betaI = {}\n",
    "for u in fitPerUser:\n",
    "    betaU[u] = 0\n",
    "\n",
    "for g in fitPerItem:\n",
    "    betaI[g] = 0"
   ]
  },
  {
   "cell_type": "code",
   "execution_count": 14,
   "metadata": {},
   "outputs": [],
   "source": [
    "betaU2 = {}\n",
    "betaI2 = {}\n",
    "for u in fitPerUser2:\n",
    "    betaU2[u] = 0\n",
    "\n",
    "for g in fitPerItem2:\n",
    "    betaI2[g] = 0"
   ]
  },
  {
   "cell_type": "code",
   "execution_count": 15,
   "metadata": {},
   "outputs": [],
   "source": [
    "betaU3 = {}\n",
    "betaI3 = {}\n",
    "for u in fitPerUser3:\n",
    "    betaU3[u] = 0\n",
    "\n",
    "for g in fitPerItem3:\n",
    "    betaI3[g] = 0"
   ]
  },
  {
   "cell_type": "code",
   "execution_count": 16,
   "metadata": {},
   "outputs": [],
   "source": [
    "alpha1 = train1['fit'].mean()\n",
    "alpha2 = train2['fit'].mean()\n",
    "alpha3 = train3['fit'].mean()"
   ]
  },
  {
   "cell_type": "code",
   "execution_count": 17,
   "metadata": {},
   "outputs": [],
   "source": [
    "def iterate(lamb):\n",
    "    newAlpha = 0\n",
    "    for u,g,r in fitTrain:\n",
    "        newAlpha += r - (betaU[u] + betaI[g])\n",
    "    alpha = newAlpha / len(fitTrain)\n",
    "    for u in fitPerUser:\n",
    "        newBetaU = 0\n",
    "        for tup in fitPerUser[u]:\n",
    "            g = tup[0]\n",
    "            r = tup[1]\n",
    "            newBetaU += r - (alpha1 + betaI[g])\n",
    "        betaU[u] = newBetaU / (lamb + len(fitPerUser[u]))\n",
    "    for g in fitPerItem:\n",
    "        newBetaI = 0\n",
    "        for u,r in fitPerItem[g]:\n",
    "            newBetaI += r - (alpha1 + betaU[u])\n",
    "        betaI[g] = newBetaI / (lamb + len(fitPerItem[g]))\n",
    "    mse = 0\n",
    "    for u,g,r in fitTrain:\n",
    "        prediction = alpha1 + betaU[u] + betaI[g]\n",
    "        mse += (r - prediction)**2\n",
    "    regularizer = 0\n",
    "    for u in betaU:\n",
    "        regularizer += betaU[u]**2\n",
    "    for g in betaI:\n",
    "        regularizer += betaI[g]**2\n",
    "    mse /= len(fitTrain)\n",
    "    return mse, mse + lamb*regularizer  "
   ]
  },
  {
   "cell_type": "code",
   "execution_count": 18,
   "metadata": {},
   "outputs": [],
   "source": [
    "def iterate2(lamb):\n",
    "    newAlpha = 0\n",
    "    for u,g,r in fitTrain2:\n",
    "        newAlpha += r - (betaU2[u] + betaI2[g])\n",
    "    alpha2 = newAlpha / len(fitTrain2)\n",
    "    for u in fitPerUser2:\n",
    "        newBetaU = 0\n",
    "        for tup in fitPerUser2[u]:\n",
    "            g = tup[0]\n",
    "            r = tup[1]\n",
    "            newBetaU += r - (alpha2 + betaI2[g])\n",
    "        betaU2[u] = newBetaU / (lamb + len(fitPerUser2[u]))\n",
    "    for g in fitPerItem2:\n",
    "        newBetaI = 0\n",
    "        for u,r in fitPerItem2[g]:\n",
    "            newBetaI += r - (alpha2 + betaU2[u])\n",
    "        betaI2[g] = newBetaI / (lamb + len(fitPerItem2[g]))\n",
    "    mse = 0\n",
    "    for u,g,r in fitTrain2:\n",
    "        prediction = alpha2 + betaU2[u] + betaI2[g]\n",
    "        mse += (r - prediction)**2\n",
    "    regularizer = 0\n",
    "    for u in betaU2:\n",
    "        regularizer += betaU2[u]**2\n",
    "    for g in betaI2:\n",
    "        regularizer += betaI2[g]**2\n",
    "    mse /= len(fitTrain2)\n",
    "    return mse, mse + lamb*regularizer"
   ]
  },
  {
   "cell_type": "code",
   "execution_count": 19,
   "metadata": {},
   "outputs": [],
   "source": [
    "def iterate3(lamb):\n",
    "    newAlpha = 0\n",
    "    for u,g,r in fitTrain3:\n",
    "        newAlpha += r - (betaU3[u] + betaI3[g])\n",
    "    alpha3 = newAlpha / len(fitTrain3)\n",
    "    for u in fitPerUser3:\n",
    "        newBetaU = 0\n",
    "        for tup in fitPerUser2[u]:\n",
    "            g = tup[0]\n",
    "            r = tup[1]\n",
    "            newBetaU += r - (alpha3 + betaI3[g])\n",
    "        betaU3[u] = newBetaU / (lamb + len(fitPerUser3[u]))\n",
    "    for g in fitPerItem3:\n",
    "        newBetaI = 0\n",
    "        for u,r in fitPerItem3[g]:\n",
    "            newBetaI += r - (alpha3 + betaU3[u])\n",
    "        betaI3[g] = newBetaI / (lamb + len(fitPerItem3[g]))\n",
    "    mse = 0\n",
    "    for u,g,r in fitTrain3:\n",
    "        prediction = alpha3 + betaU3[u] + betaI3[g]\n",
    "        mse += (r - prediction)**2\n",
    "    regularizer = 0\n",
    "    for u in betaU3:\n",
    "        regularizer += betaU3[u]**2\n",
    "    for g in betaI3:\n",
    "        regularizer += betaI3[g]**2\n",
    "    mse /= len(fitTrain3)\n",
    "    return mse, mse + lamb*regularizer"
   ]
  },
  {
   "cell_type": "code",
   "execution_count": 20,
   "metadata": {},
   "outputs": [],
   "source": [
    "mse,objective = iterate(1)\n",
    "newMSE,newObjective = iterate(1)\n",
    "iterations = 2"
   ]
  },
  {
   "cell_type": "code",
   "execution_count": 21,
   "metadata": {},
   "outputs": [
    {
     "name": "stdout",
     "output_type": "stream",
     "text": [
      "Objective after 3 iterations = 3854.2146391559163\n",
      "MSE after 3 iterations = 0.08478910657874021\n",
      "Objective after 4 iterations = 3852.8973125939146\n",
      "MSE after 4 iterations = 0.08472804981176169\n",
      "Objective after 5 iterations = 3853.5931398451567\n",
      "MSE after 5 iterations = 0.08471246733192114\n",
      "Objective after 6 iterations = 3854.000146525807\n",
      "MSE after 6 iterations = 0.08470789962594069\n",
      "Objective after 7 iterations = 3854.1654750516727\n",
      "MSE after 7 iterations = 0.08470645776414015\n",
      "Objective after 8 iterations = 3854.225321532701\n",
      "MSE after 8 iterations = 0.08470598978598522\n",
      "Objective after 9 iterations = 3854.2452860029457\n",
      "MSE after 9 iterations = 0.08470584026908727\n",
      "Objective after 10 iterations = 3854.2511314270796\n",
      "MSE after 10 iterations = 0.08470579642423276\n",
      "Objective after 11 iterations = 3854.2522822646706\n",
      "MSE after 11 iterations = 0.08470578692016441\n",
      "Objective after 12 iterations = 3854.252042743517\n",
      "MSE after 12 iterations = 0.08470578769111567\n",
      "Objective after 13 iterations = 3854.251512863233\n",
      "MSE after 13 iterations = 0.0847057908064656\n",
      "Objective after 14 iterations = 3854.251022396401\n",
      "MSE after 14 iterations = 0.08470579385050889\n",
      "Objective after 15 iterations = 3854.2506438079927\n",
      "MSE after 15 iterations = 0.08470579624645784\n",
      "Objective after 16 iterations = 3854.2503714865334\n",
      "MSE after 16 iterations = 0.08470579798670907\n",
      "Objective after 17 iterations = 3854.250181886952\n",
      "MSE after 17 iterations = 0.08470579920512776\n",
      "Objective after 18 iterations = 3854.2500519952036\n",
      "MSE after 18 iterations = 0.08470580004276196\n",
      "Objective after 19 iterations = 3854.24996373396\n",
      "MSE after 19 iterations = 0.08470580061319315\n",
      "Objective after 20 iterations = 3854.249904008335\n",
      "MSE after 20 iterations = 0.08470580099977787\n"
     ]
    }
   ],
   "source": [
    "while iterations < 20 or objective - newObjective > 0.01:\n",
    "    mse, objective = newMSE, newObjective\n",
    "    newMSE, newObjective = iterate(1)\n",
    "    iterations += 1\n",
    "    print(\"Objective after \" + str(iterations) + \" iterations = \" + str(newObjective))\n",
    "    print(\"MSE after \" + str(iterations) + \" iterations = \" + str(newMSE))"
   ]
  },
  {
   "cell_type": "code",
   "execution_count": 22,
   "metadata": {},
   "outputs": [],
   "source": [
    "mse2,objective2 = iterate2(1)\n",
    "newMSE2,newObjective2 = iterate2(1)\n",
    "iterations = 2"
   ]
  },
  {
   "cell_type": "code",
   "execution_count": 23,
   "metadata": {},
   "outputs": [
    {
     "name": "stdout",
     "output_type": "stream",
     "text": [
      "Objective after 3 iterations = 2235.09140582998\n",
      "MSE after 3 iterations = 0.04695844660160208\n",
      "Objective after 4 iterations = 2236.6643395717683\n",
      "MSE after 4 iterations = 0.04687194945976938\n",
      "Objective after 5 iterations = 2239.0043898077242\n",
      "MSE after 5 iterations = 0.046844114105841314\n",
      "Objective after 6 iterations = 2240.248381265239\n",
      "MSE after 6 iterations = 0.04683378854332335\n",
      "Objective after 7 iterations = 2240.8229882986357\n",
      "MSE after 7 iterations = 0.046829624085765215\n",
      "Objective after 8 iterations = 2241.081360772894\n",
      "MSE after 8 iterations = 0.04682784785178647\n",
      "Objective after 9 iterations = 2241.1984651558328\n",
      "MSE after 9 iterations = 0.04682705389184646\n",
      "Objective after 10 iterations = 2241.2527850168526\n",
      "MSE after 10 iterations = 0.04682668087043935\n",
      "Objective after 11 iterations = 2241.2788300227307\n",
      "MSE after 11 iterations = 0.04682649437066027\n",
      "Objective after 12 iterations = 2241.2918646621356\n",
      "MSE after 12 iterations = 0.04682639320063224\n",
      "Objective after 13 iterations = 2241.2987529644947\n",
      "MSE after 13 iterations = 0.04682633244012565\n",
      "Objective after 14 iterations = 2241.3026500683527\n",
      "MSE after 14 iterations = 0.046826291611160475\n",
      "Objective after 15 iterations = 2241.3050444312707\n",
      "MSE after 15 iterations = 0.04682626111518649\n",
      "Objective after 16 iterations = 2241.306659357163\n",
      "MSE after 16 iterations = 0.04682623631161103\n",
      "Objective after 17 iterations = 2241.3078580976007\n",
      "MSE after 17 iterations = 0.04682621487547779\n",
      "Objective after 18 iterations = 2241.308829619798\n",
      "MSE after 18 iterations = 0.04682619559317301\n",
      "Objective after 19 iterations = 2241.3096757686594\n",
      "MSE after 19 iterations = 0.04682617780118391\n",
      "Objective after 20 iterations = 2241.310453252415\n",
      "MSE after 20 iterations = 0.04682616111808515\n"
     ]
    }
   ],
   "source": [
    "while iterations < 20 or objective - newObjective > 0.01:\n",
    "    mse2, objective2 = newMSE2, newObjective2\n",
    "    newMSE2, newObjective2 = iterate2(1)\n",
    "    iterations += 1\n",
    "    print(\"Objective after \" + str(iterations) + \" iterations = \" + str(newObjective2))\n",
    "    print(\"MSE after \" + str(iterations) + \" iterations = \" + str(newMSE2))"
   ]
  },
  {
   "cell_type": "code",
   "execution_count": 24,
   "metadata": {},
   "outputs": [],
   "source": [
    "mse3,objective3 = iterate3(1)\n",
    "newMSE3,newObjective3 = iterate3(1)\n",
    "iterations = 2"
   ]
  },
  {
   "cell_type": "code",
   "execution_count": 25,
   "metadata": {},
   "outputs": [
    {
     "name": "stdout",
     "output_type": "stream",
     "text": [
      "Objective after 3 iterations = 5024.1658158123655\n",
      "MSE after 3 iterations = 0.12153203927868296\n",
      "Objective after 4 iterations = 5401.030129829473\n",
      "MSE after 4 iterations = 0.12268793869273882\n",
      "Objective after 5 iterations = 5560.9888477781\n",
      "MSE after 5 iterations = 0.12316114686050217\n",
      "Objective after 6 iterations = 5628.455939595938\n",
      "MSE after 6 iterations = 0.12335947974025377\n",
      "Objective after 7 iterations = 5657.042793997589\n",
      "MSE after 7 iterations = 0.12344579528171412\n",
      "Objective after 8 iterations = 5669.211005584821\n",
      "MSE after 8 iterations = 0.12348519063061254\n",
      "Objective after 9 iterations = 5674.373788950467\n",
      "MSE after 9 iterations = 0.12350424262552011\n",
      "Objective after 10 iterations = 5676.513732215538\n",
      "MSE after 10 iterations = 0.12351411318644484\n",
      "Objective after 11 iterations = 5677.337199221557\n",
      "MSE after 11 iterations = 0.12351964563228997\n",
      "Objective after 12 iterations = 5677.585209471437\n",
      "MSE after 12 iterations = 0.12352302064458022\n",
      "Objective after 13 iterations = 5677.58388627522\n",
      "MSE after 13 iterations = 0.12352526202664457\n",
      "Objective after 14 iterations = 5677.47854877442\n",
      "MSE after 14 iterations = 0.12352687347013859\n",
      "Objective after 15 iterations = 5677.334610569532\n",
      "MSE after 15 iterations = 0.12352811563162368\n",
      "Objective after 16 iterations = 5677.181666258079\n",
      "MSE after 16 iterations = 0.1235291305604773\n",
      "Objective after 17 iterations = 5677.033022457753\n",
      "MSE after 17 iterations = 0.1235299995980631\n",
      "Objective after 18 iterations = 5676.894473672175\n",
      "MSE after 18 iterations = 0.12353077142379713\n",
      "Objective after 19 iterations = 5676.768304115649\n",
      "MSE after 19 iterations = 0.12353147626016014\n",
      "Objective after 20 iterations = 5676.655141252377\n",
      "MSE after 20 iterations = 0.12353213341838429\n"
     ]
    }
   ],
   "source": [
    "while iterations < 20 or objective - newObjective > 0.01:\n",
    "    mse3, objective3 = newMSE3, newObjective3\n",
    "    newMSE3, newObjective3 = iterate3(1)\n",
    "    iterations += 1\n",
    "    print(\"Objective after \" + str(iterations) + \" iterations = \" + str(newObjective3))\n",
    "    print(\"MSE after \" + str(iterations) + \" iterations = \" + str(newMSE3))"
   ]
  },
  {
   "cell_type": "code",
   "execution_count": 26,
   "metadata": {
    "scrolled": true
   },
   "outputs": [],
   "source": [
    "validMSE = 0\n",
    "predictions = []\n",
    "for u,g,d in fitValid:\n",
    "    bu = 0\n",
    "    bi = 0\n",
    "    if u in betaU:\n",
    "        bu = betaU[u]\n",
    "    if g in betaI:\n",
    "        bi = betaI[g]\n",
    "    if u in betaU2:\n",
    "        bu2 = betaU2[u]\n",
    "    if g in betaI2:\n",
    "        bi2 = betaI2[g]\n",
    "    if u in betaU3:\n",
    "        bu3 = betaU3[u]\n",
    "    if g in betaI3:\n",
    "        bi3 = betaI3[g]\n",
    "    prediction1 = alpha1 + bu + bi\n",
    "    prediction2 = alpha2 + bu2 + bi2\n",
    "    prediction3 = alpha3 + bu3 + bi3\n",
    "    validMSE += (d - prediction1)**2\n",
    "    predictions.append([prediction1, prediction2, prediction3])\n",
    "    # predictions = np.append(predictions, round(prediction, 0))"
   ]
  },
  {
   "cell_type": "code",
   "execution_count": 27,
   "metadata": {},
   "outputs": [],
   "source": [
    "validMSE /= len(fitValid)"
   ]
  },
  {
   "cell_type": "code",
   "execution_count": 28,
   "metadata": {},
   "outputs": [
    {
     "data": {
      "text/plain": [
       "0.19123487771490041"
      ]
     },
     "execution_count": 28,
     "metadata": {},
     "output_type": "execute_result"
    }
   ],
   "source": [
    "validMSE"
   ]
  },
  {
   "cell_type": "code",
   "execution_count": 29,
   "metadata": {},
   "outputs": [],
   "source": [
    "d1 = pd.DataFrame(fitValid)\n",
    "d2 = pd.DataFrame(fitValid2)\n",
    "d3 = pd.DataFrame(fitValid3)\n",
    "y = pd.concat([d1, d2, d3], axis=1).loc[:, 2].to_numpy()"
   ]
  },
  {
   "cell_type": "code",
   "execution_count": 30,
   "metadata": {},
   "outputs": [],
   "source": [
    "train_y = y[:len(y)//2]\n",
    "test_y = y[len(y)//2:]\n",
    "train_x = predictions[:len(y)//2]\n",
    "test_x = predictions[len(y)//2:]"
   ]
  },
  {
   "cell_type": "code",
   "execution_count": 31,
   "metadata": {},
   "outputs": [],
   "source": [
    "y = [list(i).index(1) for i in train_y]\n",
    "y_test = [list(i).index(1) for i in test_y]"
   ]
  },
  {
   "cell_type": "code",
   "execution_count": 38,
   "metadata": {
    "scrolled": true
   },
   "outputs": [
    {
     "name": "stdout",
     "output_type": "stream",
     "text": [
      "accuracy: 0.7264\n",
      "confusion matrix:\n",
      "[[12857   450   927]\n",
      " [ 2030   475    81]\n",
      " [ 1769    11   655]]\n",
      "F1 score: 0.6920\n"
     ]
    },
    {
     "data": {
      "image/png": "[encoded data removed]",
      "text/plain": [
       "<Figure size 432x288 with 2 Axes>"
      ]
     },
     "metadata": {
      "needs_background": "light"
     },
     "output_type": "display_data"
    }
   ],
   "source": [
    "from sklearn.metrics import accuracy_score, confusion_matrix, f1_score\n",
    "import scikitplot as skplt\n",
    "import numpy as np\n",
    "import matplotlib.pyplot as plt\n",
    "import seaborn as sns\n",
    "\n",
    "# 将预测结果转换为类别标签\n",
    "y_pred = np.argmax(test_x, axis=1)\n",
    "\n",
    "# 计算准确率\n",
    "accuracy = accuracy_score(y_test, y_pred)\n",
    "print(f\"accuracy: {accuracy:.4f}\")\n",
    "\n",
    "# 计算混淆矩阵\n",
    "cm = confusion_matrix(y_test, y_pred)\n",
    "print(\"confusion matrix:\")\n",
    "print(cm)\n",
    "\n",
    "# 计算F1分数\n",
    "f1 = f1_score(y_test, y_pred, average='weighted')\n",
    "print(f\"F1 score: {f1:.4f}\")\n",
    "\n",
    "# 绘制混淆矩阵\n",
    "skplt.metrics.plot_confusion_matrix(y_test, y_pred)\n",
    "plt.gca().spines['top'].set_visible(False)\n",
    "plt.gca().spines['right'].set_visible(False)\n",
    "plt.gca().spines['left'].set_visible(False)\n",
    "plt.gca().spines['bottom'].set_visible(False)\n",
    "plt.show()\n"
   ]
  },
  {
   "cell_type": "code",
   "execution_count": null,
   "metadata": {},
   "outputs": [],
   "source": []
  }
 ],
 "metadata": {
  "kernelspec": {
   "display_name": "Python 3",
   "language": "python",
   "name": "python3"
  },
  "language_info": {
   "codemirror_mode": {
    "name": "ipython",
    "version": 3
   },
   "file_extension": ".py",
   "mimetype": "text/x-python",
   "name": "python",
   "nbconvert_exporter": "python",
   "pygments_lexer": "ipython3",
   "version": "3.8.5"
  }
 },
 "nbformat": 4,
 "nbformat_minor": 4
}
